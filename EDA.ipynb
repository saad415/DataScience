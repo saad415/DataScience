{
 "cells": [
  {
   "cell_type": "code",
   "execution_count": 2,
   "id": "e44c5aa2",
   "metadata": {},
   "outputs": [],
   "source": [
    "import pandas as pd \n",
    "import matplotlib.pyplot as plt \n",
    "import seaborn as sns "
   ]
  },
  {
   "cell_type": "code",
   "execution_count": 10,
   "id": "cf44b117",
   "metadata": {},
   "outputs": [
    {
     "data": {
      "text/html": [
       "<div>\n",
       "<style scoped>\n",
       "    .dataframe tbody tr th:only-of-type {\n",
       "        vertical-align: middle;\n",
       "    }\n",
       "\n",
       "    .dataframe tbody tr th {\n",
       "        vertical-align: top;\n",
       "    }\n",
       "\n",
       "    .dataframe thead th {\n",
       "        text-align: right;\n",
       "    }\n",
       "</style>\n",
       "<table border=\"1\" class=\"dataframe\">\n",
       "  <thead>\n",
       "    <tr style=\"text-align: right;\">\n",
       "      <th></th>\n",
       "      <th>Entity</th>\n",
       "      <th>Code</th>\n",
       "      <th>Year</th>\n",
       "      <th>Cellular Subscription</th>\n",
       "      <th>Internet Users(%)</th>\n",
       "      <th>No. of Internet Users</th>\n",
       "      <th>Broadband Subscription</th>\n",
       "    </tr>\n",
       "  </thead>\n",
       "  <tbody>\n",
       "    <tr>\n",
       "      <th>0</th>\n",
       "      <td>Afghanistan</td>\n",
       "      <td>AFG</td>\n",
       "      <td>2005</td>\n",
       "      <td>4.68</td>\n",
       "      <td>1.22</td>\n",
       "      <td>298829</td>\n",
       "      <td>0.00</td>\n",
       "    </tr>\n",
       "    <tr>\n",
       "      <th>1</th>\n",
       "      <td>Afghanistan</td>\n",
       "      <td>AFG</td>\n",
       "      <td>2006</td>\n",
       "      <td>9.53</td>\n",
       "      <td>2.11</td>\n",
       "      <td>536114</td>\n",
       "      <td>0.00</td>\n",
       "    </tr>\n",
       "    <tr>\n",
       "      <th>2</th>\n",
       "      <td>Afghanistan</td>\n",
       "      <td>AFG</td>\n",
       "      <td>2007</td>\n",
       "      <td>17.23</td>\n",
       "      <td>1.90</td>\n",
       "      <td>492163</td>\n",
       "      <td>0.00</td>\n",
       "    </tr>\n",
       "    <tr>\n",
       "      <th>3</th>\n",
       "      <td>Afghanistan</td>\n",
       "      <td>AFG</td>\n",
       "      <td>2008</td>\n",
       "      <td>28.49</td>\n",
       "      <td>1.84</td>\n",
       "      <td>486261</td>\n",
       "      <td>0.00</td>\n",
       "    </tr>\n",
       "    <tr>\n",
       "      <th>4</th>\n",
       "      <td>Afghanistan</td>\n",
       "      <td>AFG</td>\n",
       "      <td>2009</td>\n",
       "      <td>36.98</td>\n",
       "      <td>3.55</td>\n",
       "      <td>972178</td>\n",
       "      <td>0.00</td>\n",
       "    </tr>\n",
       "    <tr>\n",
       "      <th>...</th>\n",
       "      <td>...</td>\n",
       "      <td>...</td>\n",
       "      <td>...</td>\n",
       "      <td>...</td>\n",
       "      <td>...</td>\n",
       "      <td>...</td>\n",
       "      <td>...</td>\n",
       "    </tr>\n",
       "    <tr>\n",
       "      <th>195</th>\n",
       "      <td>Australia</td>\n",
       "      <td>AUS</td>\n",
       "      <td>2019</td>\n",
       "      <td>109.25</td>\n",
       "      <td>88.60</td>\n",
       "      <td>22466450</td>\n",
       "      <td>34.93</td>\n",
       "    </tr>\n",
       "    <tr>\n",
       "      <th>196</th>\n",
       "      <td>Australia</td>\n",
       "      <td>AUS</td>\n",
       "      <td>2020</td>\n",
       "      <td>107.66</td>\n",
       "      <td>89.60</td>\n",
       "      <td>23000366</td>\n",
       "      <td>35.68</td>\n",
       "    </tr>\n",
       "    <tr>\n",
       "      <th>197</th>\n",
       "      <td>Austria</td>\n",
       "      <td>AUT</td>\n",
       "      <td>1994</td>\n",
       "      <td>3.50</td>\n",
       "      <td>1.39</td>\n",
       "      <td>110573</td>\n",
       "      <td>0.00</td>\n",
       "    </tr>\n",
       "    <tr>\n",
       "      <th>198</th>\n",
       "      <td>Austria</td>\n",
       "      <td>AUT</td>\n",
       "      <td>1995</td>\n",
       "      <td>4.80</td>\n",
       "      <td>1.89</td>\n",
       "      <td>150221</td>\n",
       "      <td>0.00</td>\n",
       "    </tr>\n",
       "    <tr>\n",
       "      <th>199</th>\n",
       "      <td>Austria</td>\n",
       "      <td>AUT</td>\n",
       "      <td>1996</td>\n",
       "      <td>7.47</td>\n",
       "      <td>6.91</td>\n",
       "      <td>549834</td>\n",
       "      <td>0.00</td>\n",
       "    </tr>\n",
       "  </tbody>\n",
       "</table>\n",
       "<p>200 rows × 7 columns</p>\n",
       "</div>"
      ],
      "text/plain": [
       "          Entity Code  Year  Cellular Subscription  Internet Users(%)  \\\n",
       "0    Afghanistan  AFG  2005                   4.68               1.22   \n",
       "1    Afghanistan  AFG  2006                   9.53               2.11   \n",
       "2    Afghanistan  AFG  2007                  17.23               1.90   \n",
       "3    Afghanistan  AFG  2008                  28.49               1.84   \n",
       "4    Afghanistan  AFG  2009                  36.98               3.55   \n",
       "..           ...  ...   ...                    ...                ...   \n",
       "195    Australia  AUS  2019                 109.25              88.60   \n",
       "196    Australia  AUS  2020                 107.66              89.60   \n",
       "197      Austria  AUT  1994                   3.50               1.39   \n",
       "198      Austria  AUT  1995                   4.80               1.89   \n",
       "199      Austria  AUT  1996                   7.47               6.91   \n",
       "\n",
       "     No. of Internet Users  Broadband Subscription  \n",
       "0                   298829                    0.00  \n",
       "1                   536114                    0.00  \n",
       "2                   492163                    0.00  \n",
       "3                   486261                    0.00  \n",
       "4                   972178                    0.00  \n",
       "..                     ...                     ...  \n",
       "195               22466450                   34.93  \n",
       "196               23000366                   35.68  \n",
       "197                 110573                    0.00  \n",
       "198                 150221                    0.00  \n",
       "199                 549834                    0.00  \n",
       "\n",
       "[200 rows x 7 columns]"
      ]
     },
     "execution_count": 10,
     "metadata": {},
     "output_type": "execute_result"
    }
   ],
   "source": [
    "df = pd.read_csv('Cleaned_Internet_Users.csv')\n",
    "df.head(200)"
   ]
  },
  {
   "cell_type": "code",
   "execution_count": 34,
   "id": "639a2510",
   "metadata": {},
   "outputs": [
    {
     "data": {
      "text/plain": [
       "Index(['Entity', 'Code', 'Year', 'Cellular Subscription', 'Internet Users(%)',\n",
       "       'No of Internet Users', 'Broadband Subscription'],\n",
       "      dtype='object')"
      ]
     },
     "execution_count": 34,
     "metadata": {},
     "output_type": "execute_result"
    }
   ],
   "source": [
    "df.columns"
   ]
  },
  {
   "cell_type": "code",
   "execution_count": 13,
   "id": "9b8761b2",
   "metadata": {},
   "outputs": [
    {
     "data": {
      "text/html": [
       "<div>\n",
       "<style scoped>\n",
       "    .dataframe tbody tr th:only-of-type {\n",
       "        vertical-align: middle;\n",
       "    }\n",
       "\n",
       "    .dataframe tbody tr th {\n",
       "        vertical-align: top;\n",
       "    }\n",
       "\n",
       "    .dataframe thead th {\n",
       "        text-align: right;\n",
       "    }\n",
       "</style>\n",
       "<table border=\"1\" class=\"dataframe\">\n",
       "  <thead>\n",
       "    <tr style=\"text-align: right;\">\n",
       "      <th></th>\n",
       "      <th>Year</th>\n",
       "      <th>Cellular Subscription</th>\n",
       "      <th>Internet Users(%)</th>\n",
       "      <th>No. of Internet Users</th>\n",
       "      <th>Broadband Subscription</th>\n",
       "    </tr>\n",
       "  </thead>\n",
       "  <tbody>\n",
       "    <tr>\n",
       "      <th>count</th>\n",
       "      <td>4373.000000</td>\n",
       "      <td>4373.000000</td>\n",
       "      <td>4373.000000</td>\n",
       "      <td>4.373000e+03</td>\n",
       "      <td>4373.000000</td>\n",
       "    </tr>\n",
       "    <tr>\n",
       "      <th>mean</th>\n",
       "      <td>2009.138578</td>\n",
       "      <td>75.804461</td>\n",
       "      <td>34.489101</td>\n",
       "      <td>2.204493e+07</td>\n",
       "      <td>8.394201</td>\n",
       "    </tr>\n",
       "    <tr>\n",
       "      <th>std</th>\n",
       "      <td>6.741842</td>\n",
       "      <td>49.783997</td>\n",
       "      <td>29.409877</td>\n",
       "      <td>1.771475e+08</td>\n",
       "      <td>11.882867</td>\n",
       "    </tr>\n",
       "    <tr>\n",
       "      <th>min</th>\n",
       "      <td>1991.000000</td>\n",
       "      <td>0.000000</td>\n",
       "      <td>1.000000</td>\n",
       "      <td>0.000000e+00</td>\n",
       "      <td>0.000000</td>\n",
       "    </tr>\n",
       "    <tr>\n",
       "      <th>25%</th>\n",
       "      <td>2004.000000</td>\n",
       "      <td>30.890000</td>\n",
       "      <td>7.000000</td>\n",
       "      <td>7.807800e+04</td>\n",
       "      <td>0.030000</td>\n",
       "    </tr>\n",
       "    <tr>\n",
       "      <th>50%</th>\n",
       "      <td>2010.000000</td>\n",
       "      <td>78.640000</td>\n",
       "      <td>26.200000</td>\n",
       "      <td>8.842560e+05</td>\n",
       "      <td>1.630000</td>\n",
       "    </tr>\n",
       "    <tr>\n",
       "      <th>75%</th>\n",
       "      <td>2015.000000</td>\n",
       "      <td>112.900000</td>\n",
       "      <td>59.760000</td>\n",
       "      <td>5.135355e+06</td>\n",
       "      <td>13.350000</td>\n",
       "    </tr>\n",
       "    <tr>\n",
       "      <th>max</th>\n",
       "      <td>2020.000000</td>\n",
       "      <td>436.100000</td>\n",
       "      <td>100.000000</td>\n",
       "      <td>4.699886e+09</td>\n",
       "      <td>62.280000</td>\n",
       "    </tr>\n",
       "  </tbody>\n",
       "</table>\n",
       "</div>"
      ],
      "text/plain": [
       "              Year  Cellular Subscription  Internet Users(%)  \\\n",
       "count  4373.000000            4373.000000        4373.000000   \n",
       "mean   2009.138578              75.804461          34.489101   \n",
       "std       6.741842              49.783997          29.409877   \n",
       "min    1991.000000               0.000000           1.000000   \n",
       "25%    2004.000000              30.890000           7.000000   \n",
       "50%    2010.000000              78.640000          26.200000   \n",
       "75%    2015.000000             112.900000          59.760000   \n",
       "max    2020.000000             436.100000         100.000000   \n",
       "\n",
       "       No. of Internet Users  Broadband Subscription  \n",
       "count           4.373000e+03             4373.000000  \n",
       "mean            2.204493e+07                8.394201  \n",
       "std             1.771475e+08               11.882867  \n",
       "min             0.000000e+00                0.000000  \n",
       "25%             7.807800e+04                0.030000  \n",
       "50%             8.842560e+05                1.630000  \n",
       "75%             5.135355e+06               13.350000  \n",
       "max             4.699886e+09               62.280000  "
      ]
     },
     "execution_count": 13,
     "metadata": {},
     "output_type": "execute_result"
    }
   ],
   "source": [
    "df.describe()"
   ]
  },
  {
   "cell_type": "code",
   "execution_count": 18,
   "id": "19a0fa32",
   "metadata": {},
   "outputs": [
    {
     "data": {
      "text/plain": [
       "Index(['Entity', 'Code', 'Year', 'Cellular Subscription', 'Internet Users(%)',\n",
       "       'No of Internet Users', 'Broadband Subscription'],\n",
       "      dtype='object')"
      ]
     },
     "execution_count": 18,
     "metadata": {},
     "output_type": "execute_result"
    }
   ],
   "source": [
    "df.columns"
   ]
  },
  {
   "cell_type": "code",
   "execution_count": 29,
   "id": "886102d4",
   "metadata": {},
   "outputs": [
    {
     "data": {
      "image/png": "[encoded data removed]",
      "text/plain": [
       "<Figure size 640x480 with 1 Axes>"
      ]
     },
     "metadata": {},
     "output_type": "display_data"
    }
   ],
   "source": [
    "df.hist(column='Internet Users(%)', bins=10);"
   ]
  },
  {
   "cell_type": "code",
   "execution_count": 30,
   "id": "8f73b9bf",
   "metadata": {},
   "outputs": [
    {
     "data": {
      "image/png": "[encoded data removed]",
      "text/plain": [
       "<Figure size 640x480 with 1 Axes>"
      ]
     },
     "metadata": {},
     "output_type": "display_data"
    }
   ],
   "source": [
    "df.hist(column='Cellular Subscription', bins=10);"
   ]
  },
  {
   "cell_type": "code",
   "execution_count": 31,
   "id": "f0aeb95d",
   "metadata": {},
   "outputs": [
    {
     "data": {
      "image/png": "[encoded data removed]",
      "text/plain": [
       "<Figure size 640x480 with 1 Axes>"
      ]
     },
     "metadata": {},
     "output_type": "display_data"
    }
   ],
   "source": [
    "df.hist(column='Broadband Subscription', bins=10);"
   ]
  },
  {
   "cell_type": "code",
   "execution_count": 33,
   "id": "b4d56883",
   "metadata": {},
   "outputs": [
    {
     "data": {
      "image/png": "[encoded data removed]",
      "text/plain": [
       "<Figure size 640x480 with 1 Axes>"
      ]
     },
     "metadata": {},
     "output_type": "display_data"
    }
   ],
   "source": [
    "df.hist(column='No of Internet Users', bins=10);"
   ]
  },
  {
   "cell_type": "code",
   "execution_count": null,
   "id": "61a95c11",
   "metadata": {},
   "outputs": [],
   "source": []
  }
 ],
 "metadata": {
  "kernelspec": {
   "display_name": "Python 3 (ipykernel)",
   "language": "python",
   "name": "python3"
  },
  "language_info": {
   "codemirror_mode": {
    "name": "ipython",
    "version": 3
   },
   "file_extension": ".py",
   "mimetype": "text/x-python",
   "name": "python",
   "nbconvert_exporter": "python",
   "pygments_lexer": "ipython3",
   "version": "3.9.13"
  }
 },
 "nbformat": 4,
 "nbformat_minor": 5
}
